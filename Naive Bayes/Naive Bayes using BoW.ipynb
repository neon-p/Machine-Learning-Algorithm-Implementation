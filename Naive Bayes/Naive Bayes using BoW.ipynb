{
 "cells": [
  {
   "cell_type": "markdown",
   "metadata": {},
   "source": [
    "## Polash Baidya\n",
    "## 150103020048"
   ]
  },
  {
   "cell_type": "code",
   "execution_count": 1,
   "metadata": {},
   "outputs": [],
   "source": [
    "import numpy as np\n",
    "from pprint import pprint\n",
    "import pandas as pd\n",
    "from sklearn.model_selection import train_test_split"
   ]
  },
  {
   "cell_type": "code",
   "execution_count": 2,
   "metadata": {},
   "outputs": [],
   "source": [
    "def separate(Text, Sentiment):\n",
    "    positive=[]\n",
    "    negative=[]\n",
    "    for i in range(len(Sentiment)):\n",
    "        if 'Positive' == Sentiment[i]:\n",
    "            positive.append(Text[i])\n",
    "        elif 'Negative' == Sentiment[i]:\n",
    "            negative.append(Text[i])\n",
    "    return positive, negative"
   ]
  },
  {
   "cell_type": "code",
   "execution_count": 3,
   "metadata": {},
   "outputs": [],
   "source": [
    "def unique_word(text):\n",
    "    unique_list=[]\n",
    "    for i in text:\n",
    "        for j in i.split():\n",
    "            if j not in unique_list:\n",
    "                unique_list.append(j)\n",
    "    return unique_list"
   ]
  },
  {
   "cell_type": "code",
   "execution_count": 4,
   "metadata": {},
   "outputs": [],
   "source": [
    "def vectorization(text_train,unique_list):\n",
    "    matrix=[]\n",
    "    for sentence in text_train:\n",
    "        words=sentence.split(\" \")\n",
    "        bag_vector = np.zeros(len(unique_list))\n",
    "        for w in words:\n",
    "            for i,word in enumerate(unique_list):\n",
    "                if word == w: \n",
    "                    bag_vector[i] += 1\n",
    "        matrix.append(bag_vector)\n",
    "    matrix_arr=np.array(matrix)\n",
    "    return matrix_arr"
   ]
  },
  {
   "cell_type": "code",
   "execution_count": 5,
   "metadata": {},
   "outputs": [],
   "source": [
    "def merge_with_new_colum(matrix,sentiment):\n",
    "    ix2=np.ones((matrix.shape[0],1))\n",
    "    \n",
    "    for i in range(len(sentiment)):\n",
    "        if 'Positive' == sentiment[i]:\n",
    "            ix2[i]='1.0'\n",
    "        elif 'Negative' == sentiment[i]:\n",
    "            ix2[i]='-1.0'\n",
    "                \n",
    "    total_vector=np.append(ix2, matrix, axis=1)\n",
    "    return total_vector"
   ]
  },
  {
   "cell_type": "code",
   "execution_count": 6,
   "metadata": {},
   "outputs": [],
   "source": [
    "def train(total_vector,tran):\n",
    "    positive=[]\n",
    "    P=[]\n",
    "    negative=[]\n",
    "    N=[]\n",
    "    T=[]\n",
    "    nn=0.0\n",
    "    m=mm=0.0\n",
    "    for i in total_vector:\n",
    "        if 1.0 == i[0]:\n",
    "            positive.append(i)\n",
    "        elif -1.0 == i[0]:\n",
    "            negative.append(i)\n",
    "        \n",
    "    for j in range(len(tran)):\n",
    "        if 1.0<=tran[j]:\n",
    "            n=j+1\n",
    "            for l in range(len(positive)):\n",
    "                m=m+positive[l][n]\n",
    "            P.append(m)\n",
    "            m=0.0\n",
    "\n",
    "    for jj in range(len(tran)):\n",
    "        if 1.0<=tran[jj]:\n",
    "            n=jj+1\n",
    "            for l in range(len(negative)):\n",
    "                mm=mm+negative[l][n]\n",
    "            N.append(mm)\n",
    "            mm=0.0\n",
    "            \n",
    "    for i in range(len(P)):\n",
    "        nn=nn+P[i]+N[i]\n",
    "        T.append(nn)\n",
    "        nn=0.0\n",
    "        \n",
    "    return P,N,T"
   ]
  },
  {
   "cell_type": "code",
   "execution_count": 7,
   "metadata": {},
   "outputs": [],
   "source": [
    "def some_calc(text_train, Positive, Negative):\n",
    "    number_of_word=0.0\n",
    "    number_of_word_positive=0.0\n",
    "    number_of_word_negative=0.0\n",
    "    for i in text_train:\n",
    "        for j in range(len(i)):\n",
    "            number_of_word=number_of_word+j\n",
    "    for p in Positive:\n",
    "        for po in range(len(p)):\n",
    "            number_of_word_positive=number_of_word_positive+po\n",
    "    for n in Negative:\n",
    "        for ne in range(len(n)):\n",
    "            number_of_word_negative=number_of_word_negative+ne\n",
    "    len_of_positive=len(Positive)/len(total_vector_train)\n",
    "    len_of_negative=len(Negative)/len(total_vector_train)\n",
    "    return number_of_word, number_of_word_positive, number_of_word_negative, len_of_positive, len_of_negative"
   ]
  },
  {
   "cell_type": "code",
   "execution_count": 8,
   "metadata": {},
   "outputs": [],
   "source": [
    "def predict_Positive(Positive_p,Total_p,len_of_positive,number_of_word_positive,number_of_word):\n",
    "    comb_positive_word=1.0\n",
    "    for i in Positive_p:\n",
    "        m=(i/number_of_word_positive)\n",
    "        comb_positive_word=comb_positive_word*m\n",
    "    comb_positive_word=comb_positive_word*len_of_positive\n",
    "\n",
    "    prob_of_positive=1.0\n",
    "    for j in Total_p:\n",
    "        m=(j/number_of_word)\n",
    "        prob_of_positive=prob_of_positive*m\n",
    "    prob_of_positive=comb_positive_word/prob_of_positive\n",
    "    return prob_of_positive"
   ]
  },
  {
   "cell_type": "code",
   "execution_count": 9,
   "metadata": {},
   "outputs": [],
   "source": [
    "def predict_Negative(Negative_p,Total_p,len_of_negative,number_of_word_negative,number_of_word):\n",
    "    comb_negative_word=1.0\n",
    "    for i in Negative_p:\n",
    "        m=(i/number_of_word_negative)\n",
    "        comb_negative_word=comb_negative_word*m\n",
    "    comb_negative_word=comb_negative_word*len_of_negative\n",
    "\n",
    "    prob_of_negative=1.0\n",
    "    for j in Total_p:\n",
    "        m=(j/number_of_word)\n",
    "        prob_of_negative=prob_of_negative*m\n",
    "    prob_of_negative=comb_negative_word/prob_of_negative\n",
    "    return prob_of_negative"
   ]
  },
  {
   "cell_type": "code",
   "execution_count": 10,
   "metadata": {},
   "outputs": [],
   "source": [
    "def accuracy():\n",
    "    a=0\n",
    "    for i in range(len(text_test)):\n",
    "        test=[text_test[i]]\n",
    "        test_vector=vectorization(test,unique_list)\n",
    "        tran_matrix=test_vector.T\n",
    "        Positive_p,Negative_p,Total_p=train(total_vector_train,tran_matrix)\n",
    "        number_of_word,number_of_word_positive,number_of_word_negative,len_of_positive,len_of_negative=some_calc(text_train, Positive, Negative)\n",
    "        positive=predict_Positive(Positive_p,Total_p,len_of_positive,number_of_word_positive,number_of_word)\n",
    "        negative=predict_Negative(Negative_p,Total_p,len_of_negative,number_of_word_negative,number_of_word)\n",
    "        if(positive<negative):\n",
    "            if 'Negative'==sentiment_test[i]:\n",
    "                a+=1\n",
    "        else:\n",
    "            if 'Positive'==sentiment_test[i]:\n",
    "                a+=1\n",
    "    b=(float(a) / len(sentiment_test))*100\n",
    "    print(\"Accuracy of this model is:\",b,\"%\")"
   ]
  },
  {
   "cell_type": "code",
   "execution_count": 11,
   "metadata": {},
   "outputs": [],
   "source": [
    "def check():  \n",
    "    test_vector=vectorization(test,unique_list)\n",
    "    tran_matrix=test_vector.T\n",
    "    Positive_p,Negative_p,Total_p=train(total_vector_train,tran_matrix)\n",
    "    number_of_word,number_of_word_positive,number_of_word_negative,len_of_positive,len_of_negative=some_calc(text_train, Positive, Negative)\n",
    "    positive=predict_Positive(Positive_p,Total_p,len_of_positive,number_of_word_positive,number_of_word)\n",
    "    negative=predict_Negative(Negative_p,Total_p,len_of_negative,number_of_word_negative,number_of_word)\n",
    "    if(positive<negative):\n",
    "        print(\"This text in Negative\")\n",
    "    else:\n",
    "        print(\"This text is Positive\")"
   ]
  },
  {
   "cell_type": "code",
   "execution_count": 22,
   "metadata": {},
   "outputs": [
    {
     "name": "stdout",
     "output_type": "stream",
     "text": [
      "200 50 200 50\n"
     ]
    }
   ],
   "source": [
    "import warnings\n",
    "warnings.filterwarnings(action = 'ignore')\n",
    "data= pd.read_csv(\"dataset/chat_sentiment.txt\", encoding = \"utf-8\", sep=\", \", names=['Text', 'Sentiment'])\n",
    "df=pd.DataFrame(data)\n",
    "Text_train,Text_test,Sentiment_train,Sentiment_test=train_test_split(df['Text'],df['Sentiment'],test_size=0.2)\n",
    "print(len(Text_train),len(Text_test),len(Sentiment_train),len(Sentiment_test))\n",
    "text_train=np.array(Text_train)\n",
    "text_test=np.array(Text_test)\n",
    "sentiment_train=np.array(Sentiment_train)\n",
    "sentiment_test=np.array(Sentiment_test)"
   ]
  },
  {
   "cell_type": "code",
   "execution_count": 23,
   "metadata": {},
   "outputs": [],
   "source": [
    "Positive, Negative= separate(text_train, sentiment_train)\n",
    "unique_list=unique_word(text_train)\n",
    "matrix_train=vectorization(text_train, unique_list)\n",
    "total_vector_train=merge_with_new_colum(matrix_train,sentiment_train)"
   ]
  },
  {
   "cell_type": "code",
   "execution_count": 24,
   "metadata": {},
   "outputs": [
    {
     "name": "stdout",
     "output_type": "stream",
     "text": [
      "Accuracy of this model is: 78.0 %\n"
     ]
    }
   ],
   "source": [
    "accuracy()"
   ]
  },
  {
   "cell_type": "code",
   "execution_count": 20,
   "metadata": {},
   "outputs": [
    {
     "name": "stdout",
     "output_type": "stream",
     "text": [
      "আমার টাকা আছে\n"
     ]
    }
   ],
   "source": [
    "test=[input()]"
   ]
  },
  {
   "cell_type": "code",
   "execution_count": 25,
   "metadata": {},
   "outputs": [
    {
     "name": "stdout",
     "output_type": "stream",
     "text": [
      "This text is Positive\n"
     ]
    }
   ],
   "source": [
    "check()"
   ]
  },
  {
   "cell_type": "code",
   "execution_count": null,
   "metadata": {},
   "outputs": [],
   "source": []
  }
 ],
 "metadata": {
  "kernelspec": {
   "display_name": "Python 3",
   "language": "python",
   "name": "python3"
  },
  "language_info": {
   "codemirror_mode": {
    "name": "ipython",
    "version": 3
   },
   "file_extension": ".py",
   "mimetype": "text/x-python",
   "name": "python",
   "nbconvert_exporter": "python",
   "pygments_lexer": "ipython3",
   "version": "3.7.1"
  }
 },
 "nbformat": 4,
 "nbformat_minor": 2
}
